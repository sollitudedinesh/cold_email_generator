{
 "cells": [
  {
   "cell_type": "code",
   "execution_count": null,
   "id": "6ebd2220-488a-4e52-9ba6-86fec588e85c",
   "metadata": {},
   "outputs": [
    {
     "name": "stdout",
     "output_type": "stream",
     "text": [
      "There is no such thing as an \"iPhone 16\". Apple has only released up to iPhone 13 series, and there is no official announcement or information about an \"iPhone 16\".\n",
      "\n",
      "However, it's common for tech enthusiasts and rumor mills to speculate about future Apple devices, including the next generation of iPhones. If you're interested in staying up-to-date with the latest news and rumors about upcoming Apple devices, I recommend following reputable tech news sources and Apple's official website for announcements.\n",
      "\n",
      "If you're looking for information about the latest iPhone models, I can provide you with information on the current iPhone 13 series, which includes:\n",
      "\n",
      "* iPhone 13\n",
      "* iPhone 13 Mini\n",
      "* iPhone 13 Pro\n",
      "* iPhone 13 Pro Max\n",
      "\n",
      "Let me know if you have any specific questions about these models or if there's anything else I can help you with!\n"
     ]
    }
   ],
   "source": [
    "from langchain_groq import ChatGroq\n",
    "import os\n",
    "from dotenv import load_dotenv\n",
    "\n",
    "\n",
    "\n",
    "llm = ChatGroq(\n",
    "    groq_api_key=os.getenv(\"GROQ_API_KEY\"),\n",
    "    model='llama3-8b-8192'\n",
    ")\n",
    "\n",
    "response = llm.invoke('iphone 16')\n",
    "print(response.content)"
   ]
  },
  {
   "cell_type": "code",
   "execution_count": 15,
   "id": "6ecf171f-04e2-4de4-a4bf-2145ba3bcd01",
   "metadata": {},
   "outputs": [
    {
     "data": {
      "text/plain": [
       "'Apply for Software Engineer\\n\\nSearch JobsSkip navigationSearch JobsNIKE, INC. JOBSContract JobsJoin The Talent CommunityLife @ NikeOverviewBenefitsBrandsOverviewJordanConverseTeamsOverviewAdministrative SupportAdvanced InnovationAir Manufacturing InnovationAviationCommunicationsCustomer ServiceDesignDigitalFacilitiesFinance & AccountingGovernment & Public AffairsHuman ResourcesInsights & AnalyticsLegalManufacturing & EngineeringMarketingMerchandisingPlanningPrivacyProcurementProduct Creation, Development & ManagementRetail CorporateRetail StoresSalesSocial & Community ImpactSports MarketingStrategic PlanningSupply Chain, Distribution & LogisticsSustainabilityTechnologyLocationsOverviewNike WHQNike New York HQEHQ: Hilversum, The NetherlandsELC: Laakdal, BelgiumGreater China HQDiversity, Equity & InclusionOverviewMilitary InclusionDisability InclusionIndigenous InclusionInternshipsTechnologySoftware EngineerBeaverton, OregonBecome a Part of the NIKE, Inc. TeamNIKE, Inc. does more than outfit the world’s best athletes. It is a place to explore potential, obliterate boundaries and push out the edges of what can be. The company looks for people who can grow, think, dream and create. Its culture thrives by embracing diversity and rewarding imagination. The brand seeks achievers, leaders and visionaries. At NIKE, Inc. it’s about each person bringing skills and passion to a challenging and constantly evolving game.NIKE is a technology company. From our flagship website and five-star mobile apps to developing products, managing big data and providing leading edge engineering and systems support, our teams at NIKE Global Technology exist to revolutionize the future at the confluence of tech and sport. We invest and develop advances in technology and employ the most creative people in the world, and then give them the support to constantly innovate, iterate and serve consumers more directly and personally.\\xa0 Our teams are innovative, diverse, multidisciplinary and collaborative, taking technology into the future and bringing the world with it.Software Engineer – NIKE, Inc., Beaverton, OR. Develop, code, configure, and test programs, systems and solutions independently with minimal supervision in order to meet defined digital product specifications; advise product owners on discrete technology-related business problems; formulate options, including assessing their relative merits and risks; create robust and rapid deployment processes that have a direct impact on the business; work with product owners to determine the best solution; help design and build scalable software solutions to implement and integrate new technologies; build and implement scalable applications that leverage platforms capabilities from AWS and business partners; and contribute to core marketing assets platforms and tools to enable both asset production, storage, cataloging and delivery; assess a well-defined problem and lead the development of a technical solution that meets the needs of the business and aligns with architectural standards; conduct ongoing analysis of organizational needs and objectives and monitor operating efficiency; implement and propose any necessary changes to ensure effective performance of an installed system/subsystem; lead design sessions and facilitate the integration of ideas from colleagues; manage small to moderate-sized solutions, and play a key role on larger teams; provide direction to team members and vendors; provide leadership within the squad/work team, with accountability for ensuring that work is on track (e.g., driving backlog refinement), meets required functionality, delivers an effective user experience, and accounts for upstream and downstream interdependencies; ensure that delivered solutions integrate effectively with adjacent solutions/technologies; provide guidance and development support to more junior team members; present and share work with colleagues for mutual review and education (e.g., after action review, root cause analysis, lunch and learn, brown bags, and demos); advise product owners on discrete technology-related business problems; formulate options, including assessing their relative merits and risks; and work with product owners to determine the best solution. Telecommuting is available from anywhere in the U.S., except from AK, AL, AR, DE, HI, IA, ID, IN, KS, KY, LA, MT, ND, NE, NH, NM, NV, OH, OK, RI, SD, VT, WV, and WY.\\xa0Must have a Master’s degree in Computer Science or Information Systems and Two (2) years of experience in the job offered or computer-related occupation. Experience must include:\\xa0SAP S4 HANA\\xa0Vistex Incentives Administration\\xa0Vistex Data Maintenance Resource (DMR)\\xa0VIZI Reporting\\xa0SQLAzureFusionCoupa\\xa0\\xa0Apply at www.jobs.nike.com\\u202f(Job# R-43308)\\xa0\\xa0LI-DNIWe are committed to fostering a diverse and inclusive environment for all employees and job applicants. We offer a number of accommodations to complete our interview process including screen readers, sign language interpreters, accessible and single location for in-person interviews, closed captioning, and other reasonable modifications as needed. If you discover, as you navigate our application process, that you need assistance or an accommodation due to a disability, please complete the Candidate Accommodation Request Form.NIKE, Inc. is a growth company that looks for team members to grow with it. Nike offers a generous total rewards package, casual work environment, a diverse and inclusive culture, and an electric atmosphere for professional development. No matter the location, or the role, every Nike employee shares one galvanizing mission: To bring inspiration and innovation to every athlete* in the world.NIKE, Inc. is committed to employing a diverse workforce. Qualified applicants will receive consideration without regard to race, color, religion, sex, national origin, age, sexual orientation, gender identity, gender expression, veteran status, or disability.How We HireAt NIKE, Inc. we promise to provide a premium, inclusive, compelling and authentic candidate experience. Delivering on this promise means we allow you to be at your best — and to do that, you need to understand how the hiring process works. Transparency is key.\\r\\n\\r\\n* This overview explains our hiring process for corporate roles. Note there may be different hiring steps involved for non-corporate roles.Start nowBenefitsWhether it’s transportation or financial health, we continually invest in our employees to help them achieve greatness — inside and outside of work. All who work here should be able to realize their full potential.Employee Assistance ProgramEmployee Stock Purchase Plan (ESPP)HolidaysMedical PlanPaid Time Off (PTO)Product DiscountsSabbaticalsLearn moreFIND A STOREBECOME A MEMBERSIGN UP FOR EMAILSEND US FEEDBACKSTUDENT DISCOUNTSGET HELPGET HELPOrder StatusDeliveryReturnsPayment OptionsContact Us On Nike.com InquiriesContact Us On All Other InquiriesABOUT NIKEABOUT NIKENewsCareersInvestorsSustainabilityIndia© 2024 Nike, Inc. All Rights ReservedGuidesNike AdaptNike Air MaxNike FlyleatherNike PegasusNike Zoom FlyNike AirNike FlyEaseNike FreeNike ReactNike ZoomXNike Air Force 1Nike FlyknitNike JoyrideNike VaporflyTerms of SaleTerms of UseNike Privacy Policy'"
      ]
     },
     "execution_count": 15,
     "metadata": {},
     "output_type": "execute_result"
    }
   ],
   "source": [
    "from langchain_community.document_loaders import WebBaseLoader\n",
    "\n",
    "loader = WebBaseLoader(\"https://jobs.nike.com/job/R-43308\")\n",
    "\n",
    "page_data = loader.load().pop().page_content\n",
    "\n",
    "page_data"
   ]
  },
  {
   "cell_type": "code",
   "execution_count": 25,
   "id": "c9a8712c-b940-4e88-8832-9082930b9bec",
   "metadata": {},
   "outputs": [
    {
     "name": "stdout",
     "output_type": "stream",
     "text": [
      "{\n",
      "  \"role\": \"Software Engineer\",\n",
      "  \"experience\": \"Two (2) years of experience in the job offered or computer-related occupation\",\n",
      "  \"skills\": [\"SAP S4 HANA\", \"Vistex Incentives Administration\", \"Vistex Data Maintenance Resource (DMR)\", \"VIZI Reporting\", \"SQL\", \"Azure\", \"Fusion\", \"Coupa\"],\n",
      "  \"description\": \"Develop, code, configure, and test programs, systems and solutions independently with minimal supervision in order to meet defined digital product specifications; advise product owners on discrete technology-related business problems; formulate options, including assessing their relative merits and risks; create robust and rapid deployment processes that have a direct impact on the business; work with product owners to determine the best solution; help design and build scalable software solutions to implement and integrate new technologies; build and implement scalable applications that leverage platforms capabilities from AWS and business partners; and contribute to core marketing assets platforms and tools to enable both asset production, storage, cataloging and delivery;\"\n",
      "}\n"
     ]
    }
   ],
   "source": [
    "from langchain_core.prompts import PromptTemplate\n",
    "\n",
    "prompt_template = PromptTemplate.from_template(\n",
    "    \"\"\"\n",
    "    ###SCRAPED TEXT FROM WEBSITE:\n",
    "    {page_data}\n",
    "    ###INSTRUCTION:\n",
    "    The scrapped text from a career's page of a website.\n",
    "    your job is to extract the job postings and return them in JSON format containing the following keys: `role`, `experiance`, `skills` and `description`.\n",
    "    ONLY RETURN VALID JSON.No additional text or explanations\n",
    "    ### valid JSON (NO PREAMBLE):    \n",
    "    \"\"\"\n",
    ")\n",
    "\n",
    "chain_extract = prompt_template | llm\n",
    "res = chain_extract.invoke(input={'page_data':page_data})\n",
    "\n",
    "print(res.content)"
   ]
  },
  {
   "cell_type": "code",
   "execution_count": 26,
   "id": "c5343044-a3ce-4506-807e-d9f824e33736",
   "metadata": {},
   "outputs": [
    {
     "data": {
      "text/plain": [
       "{'role': 'Software Engineer',\n",
       " 'experience': 'Two (2) years of experience in the job offered or computer-related occupation',\n",
       " 'skills': ['SAP S4 HANA',\n",
       "  'Vistex Incentives Administration',\n",
       "  'Vistex Data Maintenance Resource (DMR)',\n",
       "  'VIZI Reporting',\n",
       "  'SQL',\n",
       "  'Azure',\n",
       "  'Fusion',\n",
       "  'Coupa'],\n",
       " 'description': 'Develop, code, configure, and test programs, systems and solutions independently with minimal supervision in order to meet defined digital product specifications; advise product owners on discrete technology-related business problems; formulate options, including assessing their relative merits and risks; create robust and rapid deployment processes that have a direct impact on the business; work with product owners to determine the best solution; help design and build scalable software solutions to implement and integrate new technologies; build and implement scalable applications that leverage platforms capabilities from AWS and business partners; and contribute to core marketing assets platforms and tools to enable both asset production, storage, cataloging and delivery;'}"
      ]
     },
     "execution_count": 26,
     "metadata": {},
     "output_type": "execute_result"
    }
   ],
   "source": [
    "from langchain_core.output_parsers import JsonOutputParser\n",
    "\n",
    "json_parser = JsonOutputParser()\n",
    "\n",
    "json_format = json_parser.parse(res.content)\n",
    "\n",
    "json_format"
   ]
  },
  {
   "cell_type": "code",
   "execution_count": 18,
   "id": "5783c935-fb73-4edc-b30e-4aceaaaaa21b",
   "metadata": {},
   "outputs": [
    {
     "data": {
      "text/html": [
       "<div>\n",
       "<style scoped>\n",
       "    .dataframe tbody tr th:only-of-type {\n",
       "        vertical-align: middle;\n",
       "    }\n",
       "\n",
       "    .dataframe tbody tr th {\n",
       "        vertical-align: top;\n",
       "    }\n",
       "\n",
       "    .dataframe thead th {\n",
       "        text-align: right;\n",
       "    }\n",
       "</style>\n",
       "<table border=\"1\" class=\"dataframe\">\n",
       "  <thead>\n",
       "    <tr style=\"text-align: right;\">\n",
       "      <th></th>\n",
       "      <th>Techstack</th>\n",
       "      <th>Links</th>\n",
       "    </tr>\n",
       "  </thead>\n",
       "  <tbody>\n",
       "    <tr>\n",
       "      <th>0</th>\n",
       "      <td>React, Node.js, MongoDB</td>\n",
       "      <td>https://example.com/react-portfolio</td>\n",
       "    </tr>\n",
       "    <tr>\n",
       "      <th>1</th>\n",
       "      <td>Angular,.NET, SQL Server</td>\n",
       "      <td>https://example.com/angular-portfolio</td>\n",
       "    </tr>\n",
       "    <tr>\n",
       "      <th>2</th>\n",
       "      <td>Vue.js, Ruby on Rails, PostgreSQL</td>\n",
       "      <td>https://example.com/vue-portfolio</td>\n",
       "    </tr>\n",
       "    <tr>\n",
       "      <th>3</th>\n",
       "      <td>Python, Django, MySQL</td>\n",
       "      <td>https://example.com/python-portfolio</td>\n",
       "    </tr>\n",
       "    <tr>\n",
       "      <th>4</th>\n",
       "      <td>Java, Spring Boot, Oracle</td>\n",
       "      <td>https://example.com/java-portfolio</td>\n",
       "    </tr>\n",
       "    <tr>\n",
       "      <th>5</th>\n",
       "      <td>Flutter, Firebase, GraphQL</td>\n",
       "      <td>https://example.com/flutter-portfolio</td>\n",
       "    </tr>\n",
       "    <tr>\n",
       "      <th>6</th>\n",
       "      <td>WordPress, PHP, MySQL</td>\n",
       "      <td>https://example.com/wordpress-portfolio</td>\n",
       "    </tr>\n",
       "    <tr>\n",
       "      <th>7</th>\n",
       "      <td>Magento, PHP, MySQL</td>\n",
       "      <td>https://example.com/magento-portfolio</td>\n",
       "    </tr>\n",
       "    <tr>\n",
       "      <th>8</th>\n",
       "      <td>React Native, Node.js, MongoDB</td>\n",
       "      <td>https://example.com/react-native-portfolio</td>\n",
       "    </tr>\n",
       "    <tr>\n",
       "      <th>9</th>\n",
       "      <td>iOS, Swift, Core Data</td>\n",
       "      <td>https://example.com/ios-portfolio</td>\n",
       "    </tr>\n",
       "    <tr>\n",
       "      <th>10</th>\n",
       "      <td>Android, Java, Room Persistence</td>\n",
       "      <td>https://example.com/android-portfolio</td>\n",
       "    </tr>\n",
       "    <tr>\n",
       "      <th>11</th>\n",
       "      <td>Kotlin, Android, Firebase</td>\n",
       "      <td>https://example.com/kotlin-android-portfolio</td>\n",
       "    </tr>\n",
       "    <tr>\n",
       "      <th>12</th>\n",
       "      <td>Android TV, Kotlin, Android NDK</td>\n",
       "      <td>https://example.com/android-tv-portfolio</td>\n",
       "    </tr>\n",
       "    <tr>\n",
       "      <th>13</th>\n",
       "      <td>iOS, Swift, ARKit</td>\n",
       "      <td>https://example.com/ios-ar-portfolio</td>\n",
       "    </tr>\n",
       "    <tr>\n",
       "      <th>14</th>\n",
       "      <td>Cross-platform, Xamarin, Azure</td>\n",
       "      <td>https://example.com/xamarin-portfolio</td>\n",
       "    </tr>\n",
       "    <tr>\n",
       "      <th>15</th>\n",
       "      <td>Backend, Kotlin, Spring Boot</td>\n",
       "      <td>https://example.com/kotlin-backend-portfolio</td>\n",
       "    </tr>\n",
       "    <tr>\n",
       "      <th>16</th>\n",
       "      <td>Frontend, TypeScript, Angular</td>\n",
       "      <td>https://example.com/typescript-frontend-portfolio</td>\n",
       "    </tr>\n",
       "    <tr>\n",
       "      <th>17</th>\n",
       "      <td>Full-stack, JavaScript, Express.js</td>\n",
       "      <td>https://example.com/full-stack-js-portfolio</td>\n",
       "    </tr>\n",
       "    <tr>\n",
       "      <th>18</th>\n",
       "      <td>Machine Learning, Python, TensorFlow</td>\n",
       "      <td>https://example.com/ml-python-portfolio</td>\n",
       "    </tr>\n",
       "    <tr>\n",
       "      <th>19</th>\n",
       "      <td>DevOps, Jenkins, Docker</td>\n",
       "      <td>https://example.com/devops-portfolio</td>\n",
       "    </tr>\n",
       "  </tbody>\n",
       "</table>\n",
       "</div>"
      ],
      "text/plain": [
       "                               Techstack  \\\n",
       "0                React, Node.js, MongoDB   \n",
       "1               Angular,.NET, SQL Server   \n",
       "2      Vue.js, Ruby on Rails, PostgreSQL   \n",
       "3                  Python, Django, MySQL   \n",
       "4              Java, Spring Boot, Oracle   \n",
       "5             Flutter, Firebase, GraphQL   \n",
       "6                  WordPress, PHP, MySQL   \n",
       "7                    Magento, PHP, MySQL   \n",
       "8         React Native, Node.js, MongoDB   \n",
       "9                  iOS, Swift, Core Data   \n",
       "10       Android, Java, Room Persistence   \n",
       "11             Kotlin, Android, Firebase   \n",
       "12       Android TV, Kotlin, Android NDK   \n",
       "13                     iOS, Swift, ARKit   \n",
       "14        Cross-platform, Xamarin, Azure   \n",
       "15          Backend, Kotlin, Spring Boot   \n",
       "16         Frontend, TypeScript, Angular   \n",
       "17    Full-stack, JavaScript, Express.js   \n",
       "18  Machine Learning, Python, TensorFlow   \n",
       "19               DevOps, Jenkins, Docker   \n",
       "\n",
       "                                                Links  \n",
       "0                 https://example.com/react-portfolio  \n",
       "1               https://example.com/angular-portfolio  \n",
       "2                   https://example.com/vue-portfolio  \n",
       "3                https://example.com/python-portfolio  \n",
       "4                  https://example.com/java-portfolio  \n",
       "5               https://example.com/flutter-portfolio  \n",
       "6             https://example.com/wordpress-portfolio  \n",
       "7               https://example.com/magento-portfolio  \n",
       "8          https://example.com/react-native-portfolio  \n",
       "9                   https://example.com/ios-portfolio  \n",
       "10              https://example.com/android-portfolio  \n",
       "11       https://example.com/kotlin-android-portfolio  \n",
       "12           https://example.com/android-tv-portfolio  \n",
       "13               https://example.com/ios-ar-portfolio  \n",
       "14              https://example.com/xamarin-portfolio  \n",
       "15       https://example.com/kotlin-backend-portfolio  \n",
       "16  https://example.com/typescript-frontend-portfolio  \n",
       "17        https://example.com/full-stack-js-portfolio  \n",
       "18            https://example.com/ml-python-portfolio  \n",
       "19               https://example.com/devops-portfolio  "
      ]
     },
     "execution_count": 18,
     "metadata": {},
     "output_type": "execute_result"
    }
   ],
   "source": [
    "import pandas as pd\n",
    "\n",
    "data = pd.read_csv('./my_portfolio.csv')\n",
    "\n",
    "pd.DataFrame(data)"
   ]
  },
  {
   "cell_type": "code",
   "execution_count": 8,
   "id": "8c31e19a-df9e-442d-bbb6-f2daaa247e4f",
   "metadata": {},
   "outputs": [],
   "source": [
    "import uuid\n",
    "import chromadb\n",
    "\n",
    "client = chromadb.PersistentClient('vectorstore')\n",
    "\n",
    "collection = client.get_or_create_collection(name='my_portfolio')\n",
    "\n",
    "if not collection.count():\n",
    "    for _, row in data.iterrows():\n",
    "        collection.add(documents=row['Techstack'],\n",
    "                      metadatas={\"links\":row['Links']},\n",
    "                      ids=[str(uuid.uuid4())])"
   ]
  },
  {
   "cell_type": "code",
   "execution_count": 28,
   "id": "b407c3dd-1e70-4d10-ac4f-33b31a8e19da",
   "metadata": {},
   "outputs": [
    {
     "data": {
      "text/plain": [
       "['SAP S4 HANA',\n",
       " 'Vistex Incentives Administration',\n",
       " 'Vistex Data Maintenance Resource (DMR)',\n",
       " 'VIZI Reporting',\n",
       " 'SQL',\n",
       " 'Azure',\n",
       " 'Fusion',\n",
       " 'Coupa']"
      ]
     },
     "execution_count": 28,
     "metadata": {},
     "output_type": "execute_result"
    }
   ],
   "source": [
    "job = json_format\n",
    "\n",
    "job['skills']"
   ]
  },
  {
   "cell_type": "code",
   "execution_count": 29,
   "id": "483ca0af-85b5-409e-98d1-3a206c1b16d1",
   "metadata": {},
   "outputs": [
    {
     "data": {
      "text/plain": [
       "[[{'links': 'https://example.com/java-portfolio'},\n",
       "  {'links': 'https://example.com/angular-portfolio'}],\n",
       " [{'links': 'https://example.com/ml-python-portfolio'},\n",
       "  {'links': 'https://example.com/typescript-frontend-portfolio'}],\n",
       " [{'links': 'https://example.com/ml-python-portfolio'},\n",
       "  {'links': 'https://example.com/ios-portfolio'}],\n",
       " [{'links': 'https://example.com/android-tv-portfolio'},\n",
       "  {'links': 'https://example.com/ios-ar-portfolio'}],\n",
       " [{'links': 'https://example.com/magento-portfolio'},\n",
       "  {'links': 'https://example.com/wordpress-portfolio'}],\n",
       " [{'links': 'https://example.com/xamarin-portfolio'},\n",
       "  {'links': 'https://example.com/angular-portfolio'}],\n",
       " [{'links': 'https://example.com/ml-python-portfolio'},\n",
       "  {'links': 'https://example.com/full-stack-js-portfolio'}],\n",
       " [{'links': 'https://example.com/vue-portfolio'},\n",
       "  {'links': 'https://example.com/java-portfolio'}]]"
      ]
     },
     "execution_count": 29,
     "metadata": {},
     "output_type": "execute_result"
    }
   ],
   "source": [
    "links = collection.query(query_texts=job['skills'], n_results=2).get('metadatas', [])\n",
    "links"
   ]
  },
  {
   "cell_type": "code",
   "execution_count": 31,
   "id": "63c031a2-3d30-49a3-84ee-3421dc397b43",
   "metadata": {},
   "outputs": [
    {
     "name": "stdout",
     "output_type": "stream",
     "text": [
      "Subject: Expert Software Engineering Services to Enhance Your Business Operations\n",
      "\n",
      "Dear [Client],\n",
      "\n",
      "I came across your job posting for a Software Engineer, and I'm excited to introduce AtliQ, a leading AI & Software Consulting company, to help you fulfill your requirements. With our expertise in software development, we can support your business goals and provide innovative solutions to streamline your operations.\n",
      "\n",
      "As you're looking for a skilled Software Engineer with experience in SAP S4 HANA, Vistex Incentives Administration, Vistex Data Maintenance Resource (DMR), VIZI Reporting, SQL, Azure, Fusion, and Coupa, we believe our team can meet your needs. Our professionals are well-versed in developing, coding, configuring, and testing programs, systems, and solutions independently with minimal supervision.\n",
      "\n",
      "AtliQ has a strong portfolio in software development, and I'd like to share some relevant examples with you:\n",
      "\n",
      "* We've successfully implemented multiple Java projects, including [link to Java portfolio].\n",
      "* Our team has also delivered several Angular projects, such as [link to Angular portfolio].\n",
      "* We've also worked on Machine Learning and Python projects, showcased in [link to ML Python portfolio].\n",
      "* Additionally, we've developed scalable applications using TypeScript and Frontend technologies, as demonstrated in [link to TypeScript Frontend portfolio].\n",
      "\n",
      "Our team can help you:\n",
      "\n",
      "* Develop and implement scalable software solutions to integrate new technologies\n",
      "* Build and implement robust and rapid deployment processes that have a direct impact on your business\n",
      "* Contribute to core marketing assets platforms and tools to enable asset production, storage, cataloging, and delivery\n",
      "\n",
      "If you're interested in learning more about how AtliQ can support your software engineering needs, I'd be happy to schedule a call to discuss further.\n",
      "\n",
      "Best regards,\n",
      "\n",
      "Mohan\n",
      "Business Development Executive\n",
      "AtliQ\n"
     ]
    }
   ],
   "source": [
    "prompt_email = PromptTemplate.from_template(\n",
    "     \"\"\"\n",
    "    ### JOB DESCRIPTION:\n",
    "    {job_description}\n",
    "    \n",
    "    ### INSTRUCTION:\n",
    "    You are Mohan, a business development executive at AtliQ. AtliQ is an AI & Software Consulting company dedicated to facilitating\n",
    "    the seamless integration of business processes through automated tools. \n",
    "    Over our experience, we have empowered numerous enterprises with tailored solutions, fostering scalability, \n",
    "    process optimization, cost reduction, and heightened overall efficiency. \n",
    "    Your job is to write a cold email to the client regarding the job mentioned above describing the capability of AtliQ \n",
    "    in fulfilling their needs.\n",
    "    Also add the most relevant ones from the following links to showcase Atliq's portfolio: {link_list}\n",
    "    Remember you are Mohan, BDE at AtliQ. \n",
    "    Do not provide a preamble.\n",
    "    ### EMAIL (NO PREAMBLE):\n",
    "    \n",
    "    \"\"\"\n",
    ")\n",
    "\n",
    "chain_email = prompt_email | llm\n",
    "\n",
    "res = chain_email.invoke({\"job_description\":str(job), \"link_list\":links})\n",
    "\n",
    "print(res.content)"
   ]
  },
  {
   "cell_type": "code",
   "execution_count": null,
   "id": "c597afce-efb4-47b1-8d99-d68796d2d194",
   "metadata": {},
   "outputs": [],
   "source": []
  }
 ],
 "metadata": {
  "kernelspec": {
   "display_name": "Python 3 (ipykernel)",
   "language": "python",
   "name": "python3"
  },
  "language_info": {
   "codemirror_mode": {
    "name": "ipython",
    "version": 3
   },
   "file_extension": ".py",
   "mimetype": "text/x-python",
   "name": "python",
   "nbconvert_exporter": "python",
   "pygments_lexer": "ipython3",
   "version": "3.11.7"
  }
 },
 "nbformat": 4,
 "nbformat_minor": 5
}
